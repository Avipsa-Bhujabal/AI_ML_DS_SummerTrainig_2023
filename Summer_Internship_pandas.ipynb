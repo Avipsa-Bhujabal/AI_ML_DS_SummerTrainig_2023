{
  "nbformat": 4,
  "nbformat_minor": 0,
  "metadata": {
    "colab": {
      "provenance": [],
      "authorship_tag": "ABX9TyNo6ifhKX8Y8u0UcFirgh03",
      "include_colab_link": true
    },
    "kernelspec": {
      "name": "python3",
      "display_name": "Python 3"
    },
    "language_info": {
      "name": "python"
    }
  },
  "cells": [
    {
      "cell_type": "markdown",
      "metadata": {
        "id": "view-in-github",
        "colab_type": "text"
      },
      "source": [
        "<a href=\"https://colab.research.google.com/github/Avipsa-Bhujabal/AI_ML_DS_SummerTrainig_2023/blob/main/Summer_Internship_pandas.ipynb\" target=\"_parent\"><img src=\"https://colab.research.google.com/assets/colab-badge.svg\" alt=\"Open In Colab\"/></a>"
      ]
    },
    {
      "cell_type": "code",
      "execution_count": null,
      "metadata": {
        "id": "qQTUoihZrtej"
      },
      "outputs": [],
      "source": [
        "import pandas as pd"
      ]
    },
    {
      "cell_type": "code",
      "source": [
        "pd.__version__"
      ],
      "metadata": {
        "id": "6mK2v4-or4YI",
        "outputId": "89aefbe0-839e-4405-8dd2-634233b27aab",
        "colab": {
          "base_uri": "https://localhost:8080/",
          "height": 36
        }
      },
      "execution_count": null,
      "outputs": [
        {
          "output_type": "execute_result",
          "data": {
            "text/plain": [
              "'1.5.3'"
            ],
            "application/vnd.google.colaboratory.intrinsic+json": {
              "type": "string"
            }
          },
          "metadata": {},
          "execution_count": 2
        }
      ]
    },
    {
      "cell_type": "code",
      "source": [
        "popu = {\n",
        "    'kumar':20,\n",
        "    'rahul':30,\n",
        "    'sumit':40\n",
        "}\n",
        "popu\n",
        "popul = pd.Series(popu)\n",
        "print(popul)"
      ],
      "metadata": {
        "id": "bAvIFaZQr7KT",
        "colab": {
          "base_uri": "https://localhost:8080/"
        },
        "outputId": "ad8fcc89-1a3b-4e04-9fe6-924ad807d8bb"
      },
      "execution_count": 32,
      "outputs": [
        {
          "output_type": "stream",
          "name": "stdout",
          "text": [
            "kumar    20\n",
            "rahul    30\n",
            "sumit    40\n",
            "dtype: int64\n"
          ]
        }
      ]
    },
    {
      "cell_type": "code",
      "source": [
        "popul['kumar']\n",
        "popul[1]\n",
        "popul['kumar':'rahul']"
      ],
      "metadata": {
        "colab": {
          "base_uri": "https://localhost:8080/"
        },
        "id": "QUjj2k9Vtn39",
        "outputId": "004f0f55-3571-4bac-ef7e-1d7cc5d1d85f"
      },
      "execution_count": 8,
      "outputs": [
        {
          "output_type": "execute_result",
          "data": {
            "text/plain": [
              "kumar    20\n",
              "rahul    30\n",
              "dtype: int64"
            ]
          },
          "metadata": {},
          "execution_count": 8
        }
      ]
    },
    {
      "cell_type": "code",
      "source": [
        "print(pd.Series([1,4]))\n",
        "print(pd.Series([1,4,6]))\n",
        "print(pd.Series([1,4,6],index=[100,200,300]))\n",
        "print(pd.Series({2:'a',1:'b'}))\n",
        "print(pd.Series({2:'a',1:'b'}, index=[1,2]))"
      ],
      "metadata": {
        "colab": {
          "base_uri": "https://localhost:8080/"
        },
        "id": "gekYXuMEuGNl",
        "outputId": "8185ad1c-aed5-4946-cff7-b3f2edf63b96"
      },
      "execution_count": 15,
      "outputs": [
        {
          "output_type": "stream",
          "name": "stdout",
          "text": [
            "0    1\n",
            "1    4\n",
            "dtype: int64\n",
            "0    1\n",
            "1    4\n",
            "2    6\n",
            "dtype: int64\n",
            "100    1\n",
            "200    4\n",
            "300    6\n",
            "dtype: int64\n",
            "2    a\n",
            "1    b\n",
            "dtype: object\n"
          ]
        }
      ]
    }
  ]
}