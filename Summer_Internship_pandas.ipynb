{
  "nbformat": 4,
  "nbformat_minor": 0,
  "metadata": {
    "colab": {
      "provenance": [],
      "authorship_tag": "ABX9TyOwB3FoA9OYNeleUSPjenkW",
      "include_colab_link": true
    },
    "kernelspec": {
      "name": "python3",
      "display_name": "Python 3"
    },
    "language_info": {
      "name": "python"
    }
  },
  "cells": [
    {
      "cell_type": "markdown",
      "metadata": {
        "id": "view-in-github",
        "colab_type": "text"
      },
      "source": [
        "<a href=\"https://colab.research.google.com/github/Avipsa-Bhujabal/AI_ML_DS_SummerTrainig_2023/blob/main/Summer_Internship_pandas.ipynb\" target=\"_parent\"><img src=\"https://colab.research.google.com/assets/colab-badge.svg\" alt=\"Open In Colab\"/></a>"
      ]
    },
    {
      "cell_type": "code",
      "execution_count": null,
      "metadata": {
        "id": "qQTUoihZrtej"
      },
      "outputs": [],
      "source": [
        "import pandas as pd"
      ]
    },
    {
      "cell_type": "code",
      "source": [
        "pd.__version__"
      ],
      "metadata": {
        "id": "6mK2v4-or4YI",
        "outputId": "89aefbe0-839e-4405-8dd2-634233b27aab",
        "colab": {
          "base_uri": "https://localhost:8080/",
          "height": 36
        }
      },
      "execution_count": null,
      "outputs": [
        {
          "output_type": "execute_result",
          "data": {
            "text/plain": [
              "'1.5.3'"
            ],
            "application/vnd.google.colaboratory.intrinsic+json": {
              "type": "string"
            }
          },
          "metadata": {},
          "execution_count": 2
        }
      ]
    },
    {
      "cell_type": "code",
      "source": [
        "popu = {\n",
        "    'kumar':20,\n",
        "    'rahul':30,\n",
        "    'sumit':40\n",
        "}\n",
        "popu\n",
        "popul = pd.Series(popu)\n",
        "print(popul)"
      ],
      "metadata": {
        "id": "bAvIFaZQr7KT",
        "colab": {
          "base_uri": "https://localhost:8080/"
        },
        "outputId": "8a43664a-ffd6-402a-d27e-ee4738525be8"
      },
      "execution_count": 3,
      "outputs": [
        {
          "output_type": "stream",
          "name": "stdout",
          "text": [
            "kumar    20\n",
            "rahul    30\n",
            "sumit    40\n",
            "dtype: int64\n"
          ]
        }
      ]
    },
    {
      "cell_type": "code",
      "source": [
        "popul['kumar']\n",
        "popul[1]\n",
        "popul['kumar':'rahul']"
      ],
      "metadata": {
        "colab": {
          "base_uri": "https://localhost:8080/"
        },
        "id": "QUjj2k9Vtn39",
        "outputId": "004f0f55-3571-4bac-ef7e-1d7cc5d1d85f"
      },
      "execution_count": 8,
      "outputs": [
        {
          "output_type": "execute_result",
          "data": {
            "text/plain": [
              "kumar    20\n",
              "rahul    30\n",
              "dtype: int64"
            ]
          },
          "metadata": {},
          "execution_count": 8
        }
      ]
    },
    {
      "cell_type": "code",
      "source": [
        "print(pd.Series([1,4]))\n",
        "print(pd.Series([1,4,6]))\n",
        "print(pd.Series([1,4,6],index=[100,200,300]))\n",
        "print(pd.Series({2:'a',1:'b'}))\n",
        "print(pd.Series({2:'a',1:'b'}, index=[1,2]))"
      ],
      "metadata": {
        "colab": {
          "base_uri": "https://localhost:8080/"
        },
        "id": "gekYXuMEuGNl",
        "outputId": "8185ad1c-aed5-4946-cff7-b3f2edf63b96"
      },
      "execution_count": 15,
      "outputs": [
        {
          "output_type": "stream",
          "name": "stdout",
          "text": [
            "0    1\n",
            "1    4\n",
            "dtype: int64\n",
            "0    1\n",
            "1    4\n",
            "2    6\n",
            "dtype: int64\n",
            "100    1\n",
            "200    4\n",
            "300    6\n",
            "dtype: int64\n",
            "2    a\n",
            "1    b\n",
            "dtype: object\n"
          ]
        }
      ]
    },
    {
      "cell_type": "code",
      "source": [
        "df=pd.DataFrame(popul)\n",
        "print(df)\n",
        "df=pd.DataFrame(popul,columns=['abc'])\n",
        "print(df)\n",
        "df.abc"
      ],
      "metadata": {
        "colab": {
          "base_uri": "https://localhost:8080/"
        },
        "id": "uFYhwuM6vlXI",
        "outputId": "2fa539c2-3ef3-41a8-b4e5-7944afd507f0"
      },
      "execution_count": 17,
      "outputs": [
        {
          "output_type": "stream",
          "name": "stdout",
          "text": [
            "        0\n",
            "kumar  20\n",
            "rahul  30\n",
            "sumit  40\n",
            "       abc\n",
            "kumar   20\n",
            "rahul   30\n",
            "sumit   40\n"
          ]
        },
        {
          "output_type": "execute_result",
          "data": {
            "text/plain": [
              "kumar    20\n",
              "rahul    30\n",
              "sumit    40\n",
              "Name: abc, dtype: int64"
            ]
          },
          "metadata": {},
          "execution_count": 17
        }
      ]
    },
    {
      "cell_type": "code",
      "source": [
        "#list to DF\n",
        "data=[{'a':i,'b':2*i} for i in range(5)]\n",
        "print(data)\n",
        "#df=pd.DataFrame(data)\n",
        "df=pd.DataFrame(data, index=['x','y','z','a','b'])\n",
        "print(df)\n",
        "df.columns=['Abc','Bxc']\n",
        "print(df)\n",
        "print(df.shape)\n",
        "print(df.size)\n",
        "print(df.ndim)"
      ],
      "metadata": {
        "colab": {
          "base_uri": "https://localhost:8080/"
        },
        "id": "JO-FJTEP0-hj",
        "outputId": "68b7457d-5fdf-475f-b97a-1a183c5c47f3"
      },
      "execution_count": 24,
      "outputs": [
        {
          "output_type": "stream",
          "name": "stdout",
          "text": [
            "[{'a': 0, 'b': 0}, {'a': 1, 'b': 2}, {'a': 2, 'b': 4}, {'a': 3, 'b': 6}, {'a': 4, 'b': 8}]\n",
            "   a  b\n",
            "x  0  0\n",
            "y  1  2\n",
            "z  2  4\n",
            "a  3  6\n",
            "b  4  8\n",
            "   Abc  Bxc\n",
            "x    0    0\n",
            "y    1    2\n",
            "z    2    4\n",
            "a    3    6\n",
            "b    4    8\n",
            "(5, 2)\n",
            "10\n",
            "2\n"
          ]
        }
      ]
    },
    {
      "cell_type": "code",
      "source": [],
      "metadata": {
        "id": "BRpdo2H62lvI"
      },
      "execution_count": null,
      "outputs": []
    }
  ]
}