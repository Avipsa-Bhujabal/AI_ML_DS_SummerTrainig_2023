{
  "nbformat": 4,
  "nbformat_minor": 0,
  "metadata": {
    "colab": {
      "provenance": [],
      "authorship_tag": "ABX9TyPua1Dn63zfMlfGS8nwo87f",
      "include_colab_link": true
    },
    "kernelspec": {
      "name": "python3",
      "display_name": "Python 3"
    },
    "language_info": {
      "name": "python"
    }
  },
  "cells": [
    {
      "cell_type": "markdown",
      "metadata": {
        "id": "view-in-github",
        "colab_type": "text"
      },
      "source": [
        "<a href=\"https://colab.research.google.com/github/Avipsa-Bhujabal/AI_ML_DS_SummerTrainig_2023/blob/main/Summer_Internship_numpy.ipynb\" target=\"_parent\"><img src=\"https://colab.research.google.com/assets/colab-badge.svg\" alt=\"Open In Colab\"/></a>"
      ]
    },
    {
      "cell_type": "code",
      "execution_count": null,
      "metadata": {
        "colab": {
          "base_uri": "https://localhost:8080/"
        },
        "id": "EZrcTkjMSyOV",
        "outputId": "6a4fb2d7-c036-4a25-8ced-bc7abce94681"
      },
      "outputs": [
        {
          "output_type": "stream",
          "name": "stdout",
          "text": [
            "Looking in indexes: https://pypi.org/simple, https://us-python.pkg.dev/colab-wheels/public/simple/\n",
            "Requirement already satisfied: numpy in /usr/local/lib/python3.10/dist-packages (1.22.4)\n"
          ]
        }
      ],
      "source": [
        "pip install numpy"
      ]
    },
    {
      "cell_type": "code",
      "source": [
        "import numpy as np"
      ],
      "metadata": {
        "id": "RY_jY2qXS8Hj"
      },
      "execution_count": null,
      "outputs": []
    },
    {
      "cell_type": "code",
      "source": [
        "np.__version__"
      ],
      "metadata": {
        "colab": {
          "base_uri": "https://localhost:8080/",
          "height": 36
        },
        "id": "RReJn87ETDFj",
        "outputId": "25ed7698-8900-460d-a129-edd72dab753b"
      },
      "execution_count": null,
      "outputs": [
        {
          "output_type": "execute_result",
          "data": {
            "text/plain": [
              "'1.22.4'"
            ],
            "application/vnd.google.colaboratory.intrinsic+json": {
              "type": "string"
            }
          },
          "metadata": {},
          "execution_count": 3
        }
      ]
    },
    {
      "cell_type": "code",
      "source": [
        "arr=np.array([1,2,3,4,5])\n",
        "print(arr)\n",
        "print(type(arr))\n",
        "print(arr.dtype)\n",
        "print(arr.shape)"
      ],
      "metadata": {
        "id": "w-q8NmCXTLcD",
        "colab": {
          "base_uri": "https://localhost:8080/"
        },
        "outputId": "4a3043b9-4958-4e48-db91-c030da0cb7ce"
      },
      "execution_count": 5,
      "outputs": [
        {
          "output_type": "stream",
          "name": "stdout",
          "text": [
            "[1 2 3 4 5]\n",
            "<class 'numpy.ndarray'>\n",
            "int64\n",
            "(5,)\n"
          ]
        }
      ]
    },
    {
      "cell_type": "code",
      "source": [
        "print(arr[1])\n",
        "print(arr[-1])\n",
        "print(arr[1:3])"
      ],
      "metadata": {
        "colab": {
          "base_uri": "https://localhost:8080/"
        },
        "id": "cbrvhczxUmdc",
        "outputId": "4e9e1596-d18b-4ec7-e8bf-67c3fc183940"
      },
      "execution_count": 7,
      "outputs": [
        {
          "output_type": "stream",
          "name": "stdout",
          "text": [
            "2\n",
            "5\n",
            "[2 3]\n"
          ]
        }
      ]
    },
    {
      "cell_type": "code",
      "source": [
        "arr=np.array([1,2,3,4,5.5,True])\n",
        "print(arr)\n",
        "print(type(arr))\n",
        "print(arr.dtype)\n",
        "print(arr.shape)"
      ],
      "metadata": {
        "colab": {
          "base_uri": "https://localhost:8080/"
        },
        "id": "aA7KSobVVgtY",
        "outputId": "3ba60fef-4997-49c3-d214-7934494a94b6"
      },
      "execution_count": 9,
      "outputs": [
        {
          "output_type": "stream",
          "name": "stdout",
          "text": [
            "[1.  2.  3.  4.  5.5 1. ]\n",
            "<class 'numpy.ndarray'>\n",
            "float64\n",
            "(6,)\n"
          ]
        }
      ]
    },
    {
      "cell_type": "code",
      "source": [
        "arr=np.array([1,2,3,4,5,True,\"anoj\"])\n",
        "print(arr)\n",
        "print(type(arr))\n",
        "print(arr.dtype)\n",
        "print(arr.shape)"
      ],
      "metadata": {
        "colab": {
          "base_uri": "https://localhost:8080/"
        },
        "id": "AhY9KYBjVvTB",
        "outputId": "839f3d4c-f785-4b07-8921-e616c2f32e0c"
      },
      "execution_count": 10,
      "outputs": [
        {
          "output_type": "stream",
          "name": "stdout",
          "text": [
            "['1' '2' '3' '4' '5' 'True' 'anoj']\n",
            "<class 'numpy.ndarray'>\n",
            "<U21\n",
            "(7,)\n"
          ]
        }
      ]
    },
    {
      "cell_type": "code",
      "source": [
        "arr = np.array([1,2,3,4], ndmin=4)\n",
        "print(arr)\n",
        "print(np.mean(arr))\n",
        "print(np.min(arr))\n",
        "print(np.std(arr))\n",
        "print(np.sum(arr))"
      ],
      "metadata": {
        "colab": {
          "base_uri": "https://localhost:8080/"
        },
        "id": "TO8lZxFiWNvL",
        "outputId": "130bb8fa-96c5-4e77-b5ac-a862fd7bad4e"
      },
      "execution_count": 13,
      "outputs": [
        {
          "output_type": "stream",
          "name": "stdout",
          "text": [
            "[[[[1 2 3 4]]]]\n",
            "2.5\n",
            "1\n",
            "1.118033988749895\n",
            "10\n"
          ]
        }
      ]
    },
    {
      "cell_type": "code",
      "source": [
        "arr = np.array(([1,2,3,4],[5,6,7,8]))\n",
        "print(arr[1][3])\n",
        "print(arr.ndim)\n",
        "print(arr.size)"
      ],
      "metadata": {
        "colab": {
          "base_uri": "https://localhost:8080/"
        },
        "id": "LzIUmKDkXP-a",
        "outputId": "bbb67bd6-6661-436d-d318-e30bfa65d0a7"
      },
      "execution_count": 17,
      "outputs": [
        {
          "output_type": "stream",
          "name": "stdout",
          "text": [
            "8\n",
            "2\n",
            "8\n"
          ]
        }
      ]
    },
    {
      "cell_type": "code",
      "source": [
        "print(np.zeros((2,4)))\n",
        "print(np.ones((3,4)))\n",
        "print(np.identity(4))"
      ],
      "metadata": {
        "colab": {
          "base_uri": "https://localhost:8080/"
        },
        "id": "PT4zI9w7YT-G",
        "outputId": "c164b6b7-33c1-4644-e1ea-170c2710b1ea"
      },
      "execution_count": 21,
      "outputs": [
        {
          "output_type": "stream",
          "name": "stdout",
          "text": [
            "[[0. 0. 0. 0.]\n",
            " [0. 0. 0. 0.]]\n",
            "[[1. 1. 1. 1.]\n",
            " [1. 1. 1. 1.]\n",
            " [1. 1. 1. 1.]]\n",
            "[[1. 0. 0. 0.]\n",
            " [0. 1. 0. 0.]\n",
            " [0. 0. 1. 0.]\n",
            " [0. 0. 0. 1.]]\n"
          ]
        }
      ]
    },
    {
      "cell_type": "code",
      "source": [
        "arr=np.random.rand(10,4)\n",
        "print(arr)"
      ],
      "metadata": {
        "colab": {
          "base_uri": "https://localhost:8080/"
        },
        "id": "4Xr0Kt9mZ1Er",
        "outputId": "4d10e5df-f616-4edb-dbe9-6c513420afd1"
      },
      "execution_count": 22,
      "outputs": [
        {
          "output_type": "stream",
          "name": "stdout",
          "text": [
            "[[0.38978399 0.52554866 0.24598425 0.8735399 ]\n",
            " [0.97155403 0.39774431 0.81632266 0.11383164]\n",
            " [0.7916436  0.41080417 0.41499218 0.69113343]\n",
            " [0.27015351 0.47630381 0.05606018 0.45700448]\n",
            " [0.4880996  0.53212111 0.62349684 0.65880208]\n",
            " [0.00904133 0.99701455 0.26867511 0.86762817]\n",
            " [0.65018739 0.1037336  0.3735843  0.94889221]\n",
            " [0.34124484 0.75962854 0.13070651 0.72733296]\n",
            " [0.95113484 0.96359453 0.49603495 0.09526193]\n",
            " [0.40274688 0.40681412 0.67614328 0.79919366]]\n"
          ]
        }
      ]
    },
    {
      "cell_type": "code",
      "source": [
        "print(np.max(arr),np.min(arr))\n",
        "arr=np.random.randn(10,5)\n",
        "print(arr)"
      ],
      "metadata": {
        "colab": {
          "base_uri": "https://localhost:8080/"
        },
        "id": "m4uReJ3xbD0i",
        "outputId": "7f434cb4-7463-45c5-fa9d-05ad088f4319"
      },
      "execution_count": 24,
      "outputs": [
        {
          "output_type": "stream",
          "name": "stdout",
          "text": [
            "0.9884334288229094 0.02639407320930509\n",
            "[[-0.20373445  0.32464301 -0.94300071  0.82823807  1.5543534 ]\n",
            " [-0.25776991 -0.87253759 -0.29051297  0.89214816 -0.19711103]\n",
            " [-0.03579027 -0.63731171  0.23300416  1.92173128 -0.78354474]\n",
            " [ 0.20075012 -0.34761774  0.82325085  1.99922034 -0.29366438]\n",
            " [ 0.20906543  0.49383791 -0.05933097 -0.77069871  0.5290959 ]\n",
            " [-0.27652997  1.21221092 -1.78558374 -0.50300222 -0.15273062]\n",
            " [-0.72926315 -0.19600122  0.71645103  1.51856572  0.83798604]\n",
            " [-0.84593919  1.23317254 -1.06199553  1.5076164  -0.37077295]\n",
            " [ 0.07582895  1.20157474  0.95087625 -0.48228982 -1.98574507]\n",
            " [ 0.70073184  0.75455803 -0.57743297  1.3655034   0.22560031]]\n"
          ]
        }
      ]
    },
    {
      "cell_type": "code",
      "source": [],
      "metadata": {
        "id": "tDlGxGS-brqD"
      },
      "execution_count": null,
      "outputs": []
    }
  ]
}